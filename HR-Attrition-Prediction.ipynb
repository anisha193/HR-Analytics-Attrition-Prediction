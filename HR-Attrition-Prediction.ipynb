{
 "cells": [
  {
   "cell_type": "code",
   "execution_count": 3,
   "id": "8ce4ebcb-c93c-4ed6-addf-36f7e40539ea",
   "metadata": {},
   "outputs": [
    {
     "name": "stdout",
     "output_type": "stream",
     "text": [
      "=== Logistic Regression Results ===\n",
      "Accuracy: 0.8513513513513513\n",
      "Confusion Matrix:\n",
      " [[249   0]\n",
      " [ 44   3]]\n",
      "Classification Report:\n",
      "               precision    recall  f1-score   support\n",
      "\n",
      "          No       0.85      1.00      0.92       249\n",
      "         Yes       1.00      0.06      0.12        47\n",
      "\n",
      "    accuracy                           0.85       296\n",
      "   macro avg       0.92      0.53      0.52       296\n",
      "weighted avg       0.87      0.85      0.79       296\n",
      "\n",
      "\n",
      "=== Random Forest Results ===\n",
      "Accuracy: 0.847972972972973\n",
      "Confusion Matrix:\n",
      " [[249   0]\n",
      " [ 45   2]]\n",
      "Classification Report:\n",
      "               precision    recall  f1-score   support\n",
      "\n",
      "          No       0.85      1.00      0.92       249\n",
      "         Yes       1.00      0.04      0.08        47\n",
      "\n",
      "    accuracy                           0.85       296\n",
      "   macro avg       0.92      0.52      0.50       296\n",
      "weighted avg       0.87      0.85      0.78       296\n",
      "\n"
     ]
    }
   ],
   "source": [
    "# Import necessary libraries\n",
    "import pandas as pd\n",
    "from sklearn.model_selection import train_test_split\n",
    "from sklearn.preprocessing import StandardScaler\n",
    "from sklearn.linear_model import LogisticRegression\n",
    "from sklearn.ensemble import RandomForestClassifier\n",
    "from sklearn.metrics import accuracy_score, confusion_matrix, classification_report\n",
    "from sklearn.impute import SimpleImputer\n",
    "\n",
    "# Step 1: Load your dataset\n",
    "df = pd.read_csv('HR_Analytics.csv')\n",
    "\n",
    "# Step 2: Separate features and target\n",
    "X = df.drop('Attrition', axis=1)\n",
    "y = df['Attrition']\n",
    "\n",
    "# Step 3: Handle categorical columns if any\n",
    "# One-hot encoding for categorical variables\n",
    "X = pd.get_dummies(X, drop_first=True)\n",
    "\n",
    "# Step 4: Handle missing values\n",
    "imputer = SimpleImputer(strategy='mean')  # You can also use 'median' or 'most_frequent'\n",
    "X = pd.DataFrame(imputer.fit_transform(X), columns=X.columns)\n",
    "\n",
    "# Step 5: Split the data\n",
    "X_train, X_test, y_train, y_test = train_test_split(X, y, test_size=0.2, random_state=42)\n",
    "\n",
    "# Step 6: Feature scaling (optional but recommended for Logistic Regression)\n",
    "scaler = StandardScaler()\n",
    "X_train_scaled = scaler.fit_transform(X_train)\n",
    "X_test_scaled = scaler.transform(X_test)\n",
    "\n",
    "# ================= Logistic Regression =================\n",
    "log_model = LogisticRegression(max_iter=1000)\n",
    "log_model.fit(X_train_scaled, y_train)\n",
    "y_pred_log = log_model.predict(X_test_scaled)\n",
    "\n",
    "print(\"=== Logistic Regression Results ===\")\n",
    "print(\"Accuracy:\", accuracy_score(y_test, y_pred_log))\n",
    "print(\"Confusion Matrix:\\n\", confusion_matrix(y_test, y_pred_log))\n",
    "print(\"Classification Report:\\n\", classification_report(y_test, y_pred_log))\n",
    "\n",
    "# ================= Random Forest =================\n",
    "rf_model = RandomForestClassifier(n_estimators=100, random_state=42)\n",
    "rf_model.fit(X_train, y_train)  # Random Forest does NOT require scaling\n",
    "y_pred_rf = rf_model.predict(X_test)\n",
    "\n",
    "print(\"\\n=== Random Forest Results ===\")\n",
    "print(\"Accuracy:\", accuracy_score(y_test, y_pred_rf))\n",
    "print(\"Confusion Matrix:\\n\", confusion_matrix(y_test, y_pred_rf))\n",
    "print(\"Classification Report:\\n\", classification_report(y_test, y_pred_rf))\n"
   ]
  },
  {
   "cell_type": "code",
   "execution_count": 4,
   "id": "dc6dc92b-767d-4782-ae57-52e02f375fd5",
   "metadata": {},
   "outputs": [
    {
     "data": {
      "image/png": "[encoded data removed]",
      "text/plain": [
       "<Figure size 800x500 with 1 Axes>"
      ]
     },
     "metadata": {},
     "output_type": "display_data"
    }
   ],
   "source": [
    "import matplotlib.pyplot as plt\n",
    "import numpy as np\n",
    "from sklearn.metrics import accuracy_score\n",
    "\n",
    "# Accuracy of both models\n",
    "models = ['Logistic Regression', 'Random Forest']\n",
    "accuracies = [\n",
    "    accuracy_score(y_test, y_pred_log),\n",
    "    accuracy_score(y_test, y_pred_rf)\n",
    "]\n",
    "\n",
    "# Plotting\n",
    "plt.figure(figsize=(8,5))\n",
    "bars = plt.bar(models, accuracies, color=['skyblue', 'lightgreen'])\n",
    "plt.ylim(0, 1)\n",
    "plt.title(\"Model Accuracy Comparison\")\n",
    "plt.ylabel(\"Accuracy\")\n",
    "plt.xlabel(\"Model\")\n",
    "\n",
    "# Add accuracy values on top of bars\n",
    "for bar in bars:\n",
    "    yval = bar.get_height()\n",
    "    plt.text(bar.get_x() + bar.get_width()/2, yval + 0.02, round(yval, 3), ha='center', fontsize=12)\n",
    "\n",
    "plt.show()\n"
   ]
  },
  {
   "cell_type": "code",
   "execution_count": null,
   "id": "b8fed654-b3b6-4210-a07d-b3bb935a4bb3",
   "metadata": {},
   "outputs": [],
   "source": []
  }
 ],
 "metadata": {
  "kernelspec": {
   "display_name": "Python 3 (ipykernel)",
   "language": "python",
   "name": "python3"
  },
  "language_info": {
   "codemirror_mode": {
    "name": "ipython",
    "version": 3
   },
   "file_extension": ".py",
   "mimetype": "text/x-python",
   "name": "python",
   "nbconvert_exporter": "python",
   "pygments_lexer": "ipython3",
   "version": "3.13.2"
  }
 },
 "nbformat": 4,
 "nbformat_minor": 5
}
